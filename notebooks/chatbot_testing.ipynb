{
 "cells": [
  {
   "cell_type": "code",
   "execution_count": null,
   "metadata": {},
   "outputs": [],
   "source": [
    "import tensorflow as tf\n",
    "import json\n",
    "\n",
    "# Load intents from JSON file\n",
    "with open('../data/intents.json', 'r') as file:\n",
    "    intents_data = json.load(file)\n",
    "\n",
    "# Load trained model\n",
    "model = tf.keras.models.load_model('../models/chatbot_model.h5')\n",
    "\n",
    "# Tokenizer for text preprocessing\n",
    "tokenizer = tf.keras.preprocessing.text.Tokenizer()\n",
    "tokenizer.fit_on_texts([pattern for intent in intents_data['intents'] for pattern in intent['patterns']])\n",
    "\n",
    "# Function to predict intent from user input\n",
    "def predict_intent(user_input):\n",
    "    sequence = tokenizer.texts_to_sequences([user_input])\n",
    "    padded_sequence = tf.keras.preprocessing.sequence.pad_sequences(sequence, padding='post', maxlen=10)\n",
    "    prediction = model.predict(padded_sequence)\n",
    "    predicted_label = tf.argmax(prediction, axis=1).numpy()[0]\n",
    "    return intents_data['intents'][predicted_label]['tag']\n",
    "\n",
    "# Test the chatbot with user inputs\n",
    "user_inputs = [\"hello\", \"bye\", \"thanks\", \"how are you?\"]\n",
    "\n",
    "for user_input in user_inputs:\n",
    "    intent_tag = predict_intent(user_input)\n",
    "    responses = [intent['responses'] for intent in intents_data['intents'] if intent['tag'] == intent_tag][0]\n",
    "    print(f\"User: {user_input}\")\n",
    "    print(f\"Bot: {responses}\")\n",
    "    print()\n"
   ]
  }
 ],
 "metadata": {
  "language_info": {
   "name": "python"
  }
 },
 "nbformat": 4,
 "nbformat_minor": 2
}
